{
 "cells": [
  {
   "cell_type": "markdown",
   "id": "8c2d7e8f-c46b-4482-a74b-9fda3bc1b0b0",
   "metadata": {},
   "source": [
    "# 🎬 IMDb Data Preprocessing\n",
    "**Project:** Director Performance Tracker  \n",
    "**Objective:** Prepare IMDb datasets for SQL analysis: unzip, convert, clean, and preprocess.\n",
    "---\n",
    "**Author:** Anna Reyes Trave \n",
    "**Date:** May 2025  \n",
    "**Tools:** Python, pandas, gzip, shutil"
   ]
  },
  {
   "cell_type": "markdown",
   "id": "99e2eab1-4920-4b9b-9d9e-ed27cc334dd0",
   "metadata": {},
   "source": [
    "## 1️ Set Up Environment\n",
    "Import necessary libraries and set folder paths.\n",
    "\n",
    "## ✅ What we're doing:\n",
    "- **Unzipping files:** We'll work with `.tsv.gz` files (compressed tab-separated values). These need to be **unzipped** before further processing.\n",
    "- **Converting to CSV:** We'll later convert them to `.csv` files, which are easier to handle in most data analysis workflows.\n",
    "- **Cleaning/preprocessing:** We’ll also prepare folders to store cleaned versions of the data.\n",
    "\n",
    "## 📂 Folder structure:\n",
    "- `data/`: Main data folder containing the **raw IMDb datasets**.\n",
    "- `data/unzipped/`: Where we will place the **unzipped** `.tsv` files.\n",
    "- `data/csv/`: Where we will save the **CSV versions** of the datasets.\n",
    "- `data/cleaned/`: Where cleaned and preprocessed data will go.\n",
    "\n",
    "## 🛠️ Libraries used:\n",
    "- **os:** For interacting with the operating system (creating folders, handling paths).\n",
    "- **gzip:** For working with `.gz` compressed files.\n",
    "- **shutil:** To help copy and extract files.\n",
    "- **pandas:** The main library for data analysis and manipulation.\n",
    "\n",
    "> 🔍 **Note:**  \n",
    "We are **not importing NumPy yet** because, at this stage, we are only handling file operations and basic data cleaning, which Pandas fully covers. NumPy is installed in the environment and will be used later if needed for numerical analysis.\n",
    "\n",
    "## 💾 Git tracking note:\n",
    "We have set up the .gitignore file to exclude the entire data/ folder from tracking. This ensures we don’t accidentally commit large dataset files (e.g., the IMDb raw data), which can cause push errors or exceed GitHub’s file size limits.\n",
    "\n",
    "However, to keep the folder structure visible in the repository (since Git does not track empty folders by default), we have added small README.md files inside each subfolder (unzipped/, csv/, and cleaned/). These files:\n",
    "\n",
    "    💬 Document the purpose of each folder.\n",
    "\n",
    "    📁 Force Git to track the empty folders, ensuring the structure is preserved even when the data files are excluded.\n",
    "\n",
    "This keeps the repo clean, documented, and fully structured—making it easier for others (and ourselves!) to understand the workflow."
   ]
  },
  {
   "cell_type": "code",
   "execution_count": 1,
   "id": "0841b3cf-d703-4643-b14d-3ae37e84bc7f",
   "metadata": {},
   "outputs": [
    {
     "name": "stdout",
     "output_type": "stream",
     "text": [
      "Environment set up completed.\n"
     ]
    }
   ],
   "source": [
    "# Import libraries\n",
    "import os\n",
    "import gzip\n",
    "import shutil\n",
    "import pandas as pd\n",
    "# Define folder paths\n",
    "RAW_DATA_FOLDER = 'data'\n",
    "UNZIPPED_FOLDER = 'data/unzipped'\n",
    "CSV_FOLDER = 'data/csv'\n",
    "CLEANED_FOLDER = 'data/cleaned'\n",
    "# Create output folders if they don't exist\n",
    "os.makedirs(UNZIPPED_FOLDER, exist_ok=True)\n",
    "os.makedirs(CSV_FOLDER, exist_ok=True)\n",
    "os.makedirs(CLEANED_FOLDER, exist_ok=True)\n",
    "print(\"Environment set up completed.\")"
   ]
  },
  {
   "cell_type": "code",
   "execution_count": null,
   "id": "4655031e-8603-4df5-bf43-d38077c818ca",
   "metadata": {},
   "outputs": [],
   "source": []
  }
 ],
 "metadata": {
  "kernelspec": {
   "display_name": "Python 3 (ipykernel)",
   "language": "python",
   "name": "python3"
  },
  "language_info": {
   "codemirror_mode": {
    "name": "ipython",
    "version": 3
   },
   "file_extension": ".py",
   "mimetype": "text/x-python",
   "name": "python",
   "nbconvert_exporter": "python",
   "pygments_lexer": "ipython3",
   "version": "3.12.4"
  }
 },
 "nbformat": 4,
 "nbformat_minor": 5
}
